{
 "cells": [
  {
   "cell_type": "code",
   "execution_count": 35,
   "id": "5667cd90",
   "metadata": {},
   "outputs": [],
   "source": [
    "from sklearn.linear_model import LinearRegression\n",
    "from sklearn.datasets import load_boston\n",
    "from sklearn.metrics import mean_squared_error\n",
    "\n",
    "import numpy as np\n",
    "import pandas as pd\n",
    "from pandas import DataFrame"
   ]
  },
  {
   "cell_type": "code",
   "execution_count": 36,
   "id": "58905039",
   "metadata": {},
   "outputs": [],
   "source": [
    "# Gather Data\n",
    "boston_dataset = load_boston()\n",
    "data = DataFrame(data=boston_dataset.data, columns=boston_dataset.feature_names)\n",
    "features = data.drop([\"INDUS\", \"AGE\"], axis=1)\n",
    "\n",
    "log_prices = np.log(boston_dataset.target)\n",
    "target = DataFrame(data=log_prices, columns=[\"PRICE\"])"
   ]
  },
  {
   "cell_type": "code",
   "execution_count": 37,
   "id": "14625ae8",
   "metadata": {},
   "outputs": [],
   "source": [
    "CRIME_IDX = 0\n",
    "ZN_IDX = 1\n",
    "CHAS_IDX = 2\n",
    "RM_IDX = 4\n",
    "PTRATIO_IDX = 8\n",
    "\n",
    "property_stats = np.ndarray(shape=(1, 11))\n",
    "property_stats = features.mean().values.reshape(1, 11)"
   ]
  },
  {
   "cell_type": "code",
   "execution_count": 38,
   "id": "bb6a6b2c",
   "metadata": {},
   "outputs": [
    {
     "data": {
      "text/plain": [
       "array([[3.61352356e+00, 1.13636364e+01, 6.91699605e-02, 5.54695059e-01,\n",
       "        6.28463439e+00, 3.79504269e+00, 9.54940711e+00, 4.08237154e+02,\n",
       "        1.84555336e+01, 3.56674032e+02, 1.26530632e+01]])"
      ]
     },
     "execution_count": 38,
     "metadata": {},
     "output_type": "execute_result"
    }
   ],
   "source": [
    "property_stats"
   ]
  },
  {
   "cell_type": "code",
   "execution_count": 39,
   "id": "bc890f30",
   "metadata": {},
   "outputs": [
    {
     "name": "stdout",
     "output_type": "stream",
     "text": [
      "MSE: 0.03516080084618688\n",
      "RMSE: 0.18751213519713034\n"
     ]
    }
   ],
   "source": [
    "regr = LinearRegression()\n",
    "regr.fit(features, target)\n",
    "\n",
    "# Calculatig the MSE and RMSE\n",
    "MSE = mean_squared_error(target, regr.predict(features))\n",
    "RMSE = np.sqrt(mean_squared_error(target, regr.predict(features)))\n",
    "\n",
    "print(\"MSE:\", MSE)\n",
    "print(\"RMSE:\", RMSE)"
   ]
  },
  {
   "cell_type": "code",
   "execution_count": 40,
   "id": "c79de1e4",
   "metadata": {},
   "outputs": [],
   "source": [
    "def get_log_estimate(nr_rooms,\n",
    "                    student_per_classroom,\n",
    "                    next_to_river=False,\n",
    "                    high_confidence=True):\n",
    "\n",
    "    # Configure Property\n",
    "    property_stats[0][RM_IDX] = nr_rooms\n",
    "    property_stats[0][PTRATIO_IDX] = student_per_classroom\n",
    "    \n",
    "    if next_to_river:\n",
    "        property_stats[0][CHAS_IDX] = 1\n",
    "        \n",
    "    else:\n",
    "        property_stats[0][CHAS_IDX] = 0\n",
    "        \n",
    "        \n",
    "    # Make Predictions\n",
    "    log_estimate = regr.predict(property_stats)[0][0]\n",
    "    \n",
    "    # Calculate Range\n",
    "    if high_confidence:\n",
    "        upper_bound = log_estimate + 2*RMSE\n",
    "        lower_bound = log_estimate - 2*RMSE\n",
    "        interval = 95\n",
    "        \n",
    "    else:\n",
    "        upper_bound = log_estimate + RMSE\n",
    "        lower_bound = log_estimate - RMSE\n",
    "        interval = 68\n",
    "    \n",
    "    return log_estimate, upper_bound, lower_bound, interval"
   ]
  },
  {
   "cell_type": "code",
   "execution_count": 41,
   "id": "f784d258",
   "metadata": {},
   "outputs": [
    {
     "data": {
      "text/plain": [
       "(2.776758191480399, 2.9642703266775294, 2.589246056283269, 68)"
      ]
     },
     "execution_count": 41,
     "metadata": {},
     "output_type": "execute_result"
    }
   ],
   "source": [
    "get_log_estimate(3, 20, next_to_river=True, high_confidence=False)"
   ]
  },
  {
   "cell_type": "code",
   "execution_count": 42,
   "id": "3d2af3a9",
   "metadata": {},
   "outputs": [
    {
     "data": {
      "text/plain": [
       "21.2"
      ]
     },
     "execution_count": 42,
     "metadata": {},
     "output_type": "execute_result"
    }
   ],
   "source": [
    "np.median(boston_dataset.target)"
   ]
  },
  {
   "cell_type": "code",
   "execution_count": 43,
   "id": "41a7c2cb",
   "metadata": {},
   "outputs": [],
   "source": [
    "ZILLOW_MEDIAN_PRICE = 583.3\n",
    "SCALE_FACTOR = ZILLOW_MEDIAN_PRICE / np.median(boston_dataset.target)"
   ]
  },
  {
   "cell_type": "code",
   "execution_count": 44,
   "id": "b956f242",
   "metadata": {},
   "outputs": [],
   "source": [
    "def get_dollar_estimate(rm, ptratio, chas=False, large_range=True):\n",
    "    \n",
    "    \"\"\" Estimate a Property Price in Boston.\n",
    "    \n",
    "        KEYWORD ARGUMENTS\n",
    "        rm -- Number of rooms in the Property.\n",
    "        ptratio -- Number of Students per Teacher in a classroom  for the School in the Area.\n",
    "        chas -- True if Property is next to River, otherwise False.\n",
    "        large_range -- True for 95% prediction interval , False for a 68% interval.\n",
    "        \n",
    "    \"\"\"\n",
    "    \n",
    "    if rm < 1 or ptratio < 1:\n",
    "        print(\"That is UNREALISTIC, Try again !\")\n",
    "        return\n",
    "    \n",
    "    log_est, upper, lower, conf = get_log_estimate(nr_rooms=rm, student_per_classroom=ptratio,\n",
    "                                              next_to_river=chas, high_confidence=large_range)\n",
    "\n",
    "    # Converting Log Price to Today's Dollar Price\n",
    "    dollar_log_est = np.e**log_est * 1000 * SCALE_FACTOR\n",
    "    dollar_upper_est = np.e**upper * 1000 * SCALE_FACTOR\n",
    "    dollar_lower_est = np.e**lower * 1000 * SCALE_FACTOR\n",
    "\n",
    "    # Rounding Dollar estimate to the Nearest Thousands\n",
    "    rounded_est = np.around(dollar_log_est, -3)\n",
    "    rounded_upper_est = np.around(dollar_upper_est, -3)\n",
    "    rounded_lower_est = np.around(dollar_lower_est, -3)\n",
    "\n",
    "    print(\"THE ESTIMATED PROPERTY PRICE: \", rounded_est)\n",
    "    print(f\"At {conf}% Confidence, the valuation Range is:\")\n",
    "    print(f\"USD {rounded_upper_est} at the UPPER and USD {rounded_lower_est} at the LOWER\")"
   ]
  },
  {
   "cell_type": "code",
   "execution_count": 50,
   "id": "419d4ce1",
   "metadata": {},
   "outputs": [
    {
     "name": "stdout",
     "output_type": "stream",
     "text": [
      "THE ESTIMATED PROPERTY PRICE:  484000.0\n",
      "At 95% Confidence, the valuation Range is:\n",
      "USD 704000.0 at the UPPER and USD 333000.0 at the LOWER\n"
     ]
    }
   ],
   "source": [
    "get_dollar_estimate(rm=4, ptratio=20, chas=True)"
   ]
  },
  {
   "cell_type": "code",
   "execution_count": null,
   "id": "448250c7",
   "metadata": {},
   "outputs": [],
   "source": []
  }
 ],
 "metadata": {
  "kernelspec": {
   "display_name": "Python 3",
   "language": "python",
   "name": "python3"
  },
  "language_info": {
   "codemirror_mode": {
    "name": "ipython",
    "version": 3
   },
   "file_extension": ".py",
   "mimetype": "text/x-python",
   "name": "python",
   "nbconvert_exporter": "python",
   "pygments_lexer": "ipython3",
   "version": "3.9.4"
  }
 },
 "nbformat": 4,
 "nbformat_minor": 5
}
